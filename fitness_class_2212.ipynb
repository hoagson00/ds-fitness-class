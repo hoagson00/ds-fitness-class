{
 "cells": [
  {
   "cell_type": "markdown",
   "id": "1e20b471-43f1-4e12-afb1-aa7825d8cc69",
   "metadata": {},
   "source": [
    "# Data Scientist Associate Exam Submission\n",
    "\n",
    "Use this template to complete your analysis and write up your summary for submission.\n"
   ]
  },
  {
   "cell_type": "markdown",
   "id": "836353de-534f-460d-b9ce-e92cc3646c65",
   "metadata": {},
   "source": [
    "## Task 1 \n",
    "#### a. State whether the values match the description given in the table above.\n",
    "#### b. State the number of missing values in the column.\n",
    "#### c. Describe what you did to make values match the description if they did not match.\n",
    "\n",
    "##### Answer\n",
    "a. The values in the columns match the description given in the table above, with the following exceptions:\n",
    "- There are 20 missing values in the \"weight\" column.\n",
    "- Most of data types and missing value replacements match the given description, there are: 'booking_id', 'months_as_member', 'weight', 'day_of_week', 'time', 'category', 'attended'.\n",
    "- The 'days_before' variable needs to remove the \"days\" characters before converting to a numberic data type to match with the given description.\n",
    "- The \"day_of_week\" column should have 7 distinct types of days. However, in the dataset, there are 10 different types of days.\n",
    "\n",
    "b. There are 20 missing values in the \"weight\" column.\n",
    "\n",
    "c. Describe what you did to make values match the description if they did not match.\n",
    "- To make the values in the \"weight\" column match the description, I fill the missing \"weight\" values with the calculated overall average weight.\n",
    "- To make the values in the \"days_before\" column match the description, the values should have the \"days\" text removed before being converted to a numberic data type.\n",
    "- To make the values in the \"day_of_week\" column match the desciption, I will replace all values \"Monday\" to \"Mon\" and \"Wednesday\" to \"Wed\" and \"Fri.\" to \"Fri\""
   ]
  },
  {
   "cell_type": "code",
   "execution_count": 29,
   "id": "8d04d93b-b948-4719-882f-b04d1e7594d3",
   "metadata": {
    "executionCancelledAt": null,
    "executionTime": 53,
    "lastExecutedAt": 1692716514735,
    "lastScheduledRunId": null,
    "lastSuccessfullyExecutedCode": "import pandas as pd\nimport numpy as np\n\n# Read file\ndf = pd.read_csv('fitness_class_2212.csv')\n\n# Remove \"days\" characters from 'days_before'\ndf[\"days_before\"] = df[\"days_before\"].str.replace(' days',\"\")\ndf[\"days_before\"] = df[\"days_before\"].astype(np.int64)\n\n# Fill and check 'weight'\nweight_na = df[\"weight\"].isna()\naverage_weight = df[~weight_na]['weight'].mean()\ndf['weight'].fillna(average_weight, inplace=True)\ndf['weight'] = df['weight'].apply(lambda x: max(x,40))\n\n# Replace the \"day_of_week\" column from 10 different types of days to 7 distinct types of days\ndf[\"day_of_week\"] = df[\"day_of_week\"].str.replace('Monday','Mon')\ndf[\"day_of_week\"] = df[\"day_of_week\"].str.replace('Wednesday','Wed')\ndf[\"day_of_week\"] = df[\"day_of_week\"].str.replace('Fri.','Fri')\n\nprint(\"Dataset info:\")\ndf.info()\nprint(\"\")\nprint(\"Total null values in weight column \",df[\"weight\"].isna().sum())\nprint(\"\")\nprint(\"The distinct types of days \",df[\"day_of_week\"].unique())",
    "outputsMetadata": {
     "0": {
      "height": 407,
      "type": "stream"
     }
    }
   },
   "outputs": [
    {
     "name": "stdout",
     "output_type": "stream",
     "text": [
      "Dataset info:\n",
      "<class 'pandas.core.frame.DataFrame'>\n",
      "RangeIndex: 1500 entries, 0 to 1499\n",
      "Data columns (total 8 columns):\n",
      " #   Column            Non-Null Count  Dtype  \n",
      "---  ------            --------------  -----  \n",
      " 0   booking_id        1500 non-null   int64  \n",
      " 1   months_as_member  1500 non-null   int64  \n",
      " 2   weight            1500 non-null   float64\n",
      " 3   days_before       1500 non-null   int64  \n",
      " 4   day_of_week       1500 non-null   object \n",
      " 5   time              1500 non-null   object \n",
      " 6   category          1500 non-null   object \n",
      " 7   attended          1500 non-null   int64  \n",
      "dtypes: float64(1), int64(4), object(3)\n",
      "memory usage: 93.9+ KB\n",
      "\n",
      "Total null values in weight column  0\n",
      "\n",
      "The distinct types of days  ['Wed' 'Mon' 'Sun' 'Fri' 'Thu' 'Tue' 'Sat']\n"
     ]
    }
   ],
   "source": [
    "import pandas as pd\n",
    "import numpy as np\n",
    "\n",
    "# Read file\n",
    "df = pd.read_csv('fitness_class_2212.csv')\n",
    "\n",
    "# Remove \"days\" characters from 'days_before'\n",
    "df[\"days_before\"] = df[\"days_before\"].str.replace(' days',\"\")\n",
    "df[\"days_before\"] = df[\"days_before\"].astype(np.int64)\n",
    "\n",
    "# Fill and check 'weight'\n",
    "weight_na = df[\"weight\"].isna()\n",
    "average_weight = df[~weight_na]['weight'].mean()\n",
    "df['weight'].fillna(average_weight, inplace=True)\n",
    "df['weight'] = df['weight'].apply(lambda x: max(x,40))\n",
    "\n",
    "# Replace the \"day_of_week\" column from 10 different types of days to 7 distinct types of days\n",
    "df[\"day_of_week\"] = df[\"day_of_week\"].str.replace('Monday','Mon')\n",
    "df[\"day_of_week\"] = df[\"day_of_week\"].str.replace('Wednesday','Wed')\n",
    "df[\"day_of_week\"] = df[\"day_of_week\"].str.replace('Fri.','Fri')\n",
    "\n",
    "print(\"Dataset info:\")\n",
    "df.info()\n",
    "print(\"\")\n",
    "print(\"Total null values in weight column \",df[\"weight\"].isna().sum())\n",
    "print(\"\")\n",
    "print(\"The distinct types of days \",df[\"day_of_week\"].unique())"
   ]
  },
  {
   "cell_type": "markdown",
   "id": "0944d9ab-ff5a-4dd3-bd52-e27b91d68581",
   "metadata": {},
   "source": [
    "## Task 2\n",
    "#### a. State which category of the variable attended has the most observations\n",
    "#### b. Explain whether the observations are balanced across categories of the variable attended\n",
    "\n",
    "##### Answer\n",
    "In this task, I will add a new columns named \"attended_label\" to map the values of \"attended\" column with label\n",
    "\n",
    "a. This visualization shows taht there ware about 1050 bookings that not attended the class and abot 450 bookings that attended the class. However, the most observations is \"HIIT\", with 454 bookings that did not attended and 213 booking that attended.\n",
    "\n",
    "b. Overall, across all the categories, the attended counts are lower than the not attended counts. This indicates an imbalance in the observations with respect to the \"attended\" variables across the different activity categories. Balanced observations would mean that the attended and not attended counts are more evenly distributed among the categories, but in this case, attendance seems to be toward the \"not attended\" category for most activities."
   ]
  },
  {
   "cell_type": "code",
   "execution_count": 30,
   "id": "cf307a7b-15f6-4d4d-8a7b-491fc30d21a1",
   "metadata": {
    "executionCancelledAt": null,
    "executionTime": 325,
    "jupyter": {
     "outputs_hidden": false,
     "source_hidden": false
    },
    "lastExecutedAt": 1692716515060,
    "lastScheduledRunId": null,
    "lastSuccessfullyExecutedCode": "import seaborn as sns\nimport matplotlib.pyplot as plt\n\n# Map values for better labels\nattended_mapping = {0: 'Not Attended', 1: 'Attended'}\ndf['attended_label'] = df['attended'].map(attended_mapping)\n\n# Create a count plot number of booking by attendance\nsns.countplot(data=df, x=\"attended_label\", hue='attended_label')\nplt.title(\"Number of Bookings by Attendance\")\nplt.xlabel(\"Category\")\nplt.ylabel(\"Count\")\nplt.show()\n\n# Create a count plot attendance by category\nsns.countplot(data = df, x=\"category\", hue=\"attended_label\", order= df[\"category\"].value_counts().index)\nplt.title(\"Attendance by Category\")\nplt.xlabel(\"Category\")\nplt.ylabel(\"Count\")\nplt.show()"
   },
   "outputs": [
    {
     "data": {
      "image/png": "[encoded data removed]",
      "text/plain": [
       "<Figure size 640x480 with 1 Axes>"
      ]
     },
     "metadata": {},
     "output_type": "display_data"
    },
    {
     "data": {
      "image/png": "[encoded data removed]",
      "text/plain": [
       "<Figure size 640x480 with 1 Axes>"
      ]
     },
     "metadata": {},
     "output_type": "display_data"
    }
   ],
   "source": [
    "import seaborn as sns\n",
    "import matplotlib.pyplot as plt\n",
    "\n",
    "# Map values for better labels\n",
    "attended_mapping = {0: 'Not Attended', 1: 'Attended'}\n",
    "df['attended_label'] = df['attended'].map(attended_mapping)\n",
    "\n",
    "# Create a count plot number of booking by attendance\n",
    "sns.countplot(data=df, x=\"attended_label\", hue='attended_label')\n",
    "plt.title(\"Number of Bookings by Attendance\")\n",
    "plt.xlabel(\"Category\")\n",
    "plt.ylabel(\"Count\")\n",
    "plt.show()\n",
    "\n",
    "# Create a count plot attendance by category\n",
    "sns.countplot(data = df, x=\"category\", hue=\"attended_label\", order= df[\"category\"].value_counts().index)\n",
    "plt.title(\"Attendance by Category\")\n",
    "plt.xlabel(\"Category\")\n",
    "plt.ylabel(\"Count\")\n",
    "plt.show()"
   ]
  },
  {
   "cell_type": "markdown",
   "id": "c509bc83-41a5-42cf-a865-08dcf8229a16",
   "metadata": {},
   "source": [
    "## Task 3: \n",
    "#### Describe the distribution of the number of months as a member. Your answer must include a visualization that shows the distribution.\n",
    "\n",
    "##### Answer\n",
    "1. Statistic:\n",
    "- Total Months as Member: 1500 months\n",
    "- Mean Months as Member: 15.63 months\n",
    "- Median Months as Member: 12.00 months\n",
    "- Minimum Months as Member: 1 month\n",
    "- Maximum Months as Member: 148 months\n",
    "- Standard Deviation: 12.93 months\n",
    "2. Distribution:\n",
    "- The histogram illustrates the frequency distribution of the 'months_as_member' variable. The x-axis represents the number of the months, and the y-axis represents the frequency of members falling with each range.\n",
    "- This distribution is right-skewed because of the elongated tail on the right side of the histogram. Besides, the mean of the statistic tends to be greater then the median. This suggest that there are relatively few members who have been registed for an extended period.\n",
    "- The majority of members have been part of the club for around 8 to 12 months, as evidenced by the peak in frequency within this range.\n",
    "3. Visualization:\n",
    "![Task3](Task3.PNG)"
   ]
  },
  {
   "cell_type": "markdown",
   "id": "17cca003-71ad-4d7e-989b-09aa51ae0aba",
   "metadata": {},
   "source": [
    "## Task 4\n",
    "#### Describe the relationship between attendance and number of months as a member. Your answer must include a visualization to demonstrate the relationship.\n",
    "\n",
    "##### Answer\n",
    "1. Interpretation:\n",
    "-  This stacked bar plot represents the relationship between attendance and membership duration.\n",
    "-  The x-axis represents different ranges of membership duration (in months)\n",
    "-  The y-axis represents the count of members\n",
    "-  Each bar is divided into two segments: 0- 'Not Attended', 1- 'Attended'\n",
    "2. Observations\n",
    "- In general, members who have been part of the fitness class for a long period tend to exhibit a higher tendency to attend consistently.\n",
    "-  Among members who enroll in the club within 1 to 6 months range, approximately 10 individuals participated in the class, while around 260 members did not attend. This discrepancy in proportions is approximately 26 times.\n",
    "-  Regarding memberships within the 7-12 months, the data illustrates that the class was not attended by about 430 members, representing the highest proportions. Besides, the number of attending members increased to 80 during this duration.\n",
    "-  The number of individuals not attending decrease gradually, while the count of attendees increases for members who have been part of the class for 13-24 months. The proportions of non-attendeess is approximately 20% higher than the attendees.\n",
    "-  Among members with a membership durations of 25 months or more, there is a higher count of attendees compared to non-attendees. Furthermore, for those who have been memebers for more than 49 months, there are no instances of non-attendees.\n",
    "3. Visualization:\n",
    "![Task4](Task4.PNG)\n"
   ]
  },
  {
   "cell_type": "markdown",
   "id": "66e07a44-f276-4516-87ce-e460d3f1a33a",
   "metadata": {},
   "source": [
    "## Task 5\n",
    "#### The business wants to predict whether members will attend using the data provided. State the type of machine learning problem that this is (regression/ classification/ clustering).\n",
    "\n",
    "##### Answer\n",
    "In this scenario, Classification can support the business to predict whether members will attend or not. The goal is to predict the categorical class or label that an input data point belongs to, which is a binary catergorical outcome (1 for attended and 0 for not attended). Therefore, this problems falls under the classification category."
   ]
  },
  {
   "cell_type": "markdown",
   "id": "8b20fa2e-da87-4cf4-9591-157a0837891e",
   "metadata": {},
   "source": [
    "## Task 6\n",
    "#### Fit a baseline model to predict whether members will attend using the data provided. You must include your code.\n",
    "\n",
    "##### Answer\n",
    "In this task, I'm using Logistic Regression as a common algorithm used for binary classification tasks. It's particulary suitable when the dependent variable is binary."
   ]
  },
  {
   "cell_type": "code",
   "execution_count": 33,
   "id": "76b4446c-9c17-4aa7-8119-8d33c51a6593",
   "metadata": {
    "executionCancelledAt": null,
    "executionTime": 136,
    "lastExecutedAt": 1692716578533,
    "lastScheduledRunId": null,
    "lastSuccessfullyExecutedCode": "from sklearn.model_selection import train_test_split\nfrom sklearn.linear_model import LogisticRegression\nfrom sklearn.metrics import accuracy_score\nfrom sklearn.preprocessing import OneHotEncoder\n\n# Define features (X) and target variable (y)\nX = df.drop(['booking_id','attended',\"attended_label\"], axis=1)\ny = df['attended']\n\n# Perform one-hot encoding on categorical features\ncategorical_columns = ['day_of_week', 'time', 'category']\nencoder = OneHotEncoder (drop='first', sparse=False)\ntransformer = encoder.fit_transform(X[categorical_columns])\nX_encoded = pd.DataFrame(transformer)\nX_encoded.columns = encoder.get_feature_names(categorical_columns)\nX.drop(categorical_columns, axis=1, inplace=True)\nX = pd.concat([X, X_encoded], axis=1)\n\n# Split dataset\nX_train, X_test, y_train, y_test = train_test_split(X,y, test_size=0.3, random_state=42)\n\n# Initialize the logistic regression model\nlogreg = LogisticRegression()\n\n# Fit the model\nlogreg.fit(X_train, y_train)\n\n# Predict on the test set\ny_pred_logreg = logreg.predict(X_test)\n\n# Calculate accuracy of the model\naccuracy_logreg = accuracy_score(y_test, y_pred_logreg)\n\nprint (f\"Accuracy of Baseline Logistuc Regression: {accuracy_logreg:.2f}\")",
    "outputsMetadata": {
     "0": {
      "height": 37,
      "type": "stream"
     }
    }
   },
   "outputs": [
    {
     "name": "stdout",
     "output_type": "stream",
     "text": [
      "Accuracy of Baseline Logistuc Regression: 0.74\n"
     ]
    }
   ],
   "source": [
    "from sklearn.model_selection import train_test_split\n",
    "from sklearn.linear_model import LogisticRegression\n",
    "from sklearn.metrics import accuracy_score\n",
    "from sklearn.preprocessing import OneHotEncoder\n",
    "\n",
    "# Define features (X) and target variable (y)\n",
    "X = df.drop(['booking_id','attended',\"attended_label\"], axis=1)\n",
    "y = df['attended']\n",
    "\n",
    "# Perform one-hot encoding on categorical features\n",
    "categorical_columns = ['day_of_week', 'time', 'category']\n",
    "encoder = OneHotEncoder (drop='first', sparse=False)\n",
    "transformer = encoder.fit_transform(X[categorical_columns])\n",
    "X_encoded = pd.DataFrame(transformer)\n",
    "X_encoded.columns = encoder.get_feature_names(categorical_columns)\n",
    "X.drop(categorical_columns, axis=1, inplace=True)\n",
    "X = pd.concat([X, X_encoded], axis=1)\n",
    "\n",
    "# Split dataset\n",
    "X_train, X_test, y_train, y_test = train_test_split(X,y, test_size=0.3, random_state=42)\n",
    "\n",
    "# Initialize the logistic regression model\n",
    "logreg = LogisticRegression()\n",
    "\n",
    "# Fit the model\n",
    "logreg.fit(X_train, y_train)\n",
    "\n",
    "# Predict on the test set\n",
    "y_pred_logreg = logreg.predict(X_test)\n",
    "\n",
    "# Calculate accuracy of the model\n",
    "accuracy_logreg = accuracy_score(y_test, y_pred_logreg)\n",
    "\n",
    "print (f\"Accuracy of Baseline Logistuc Regression: {accuracy_logreg:.2f}\")"
   ]
  },
  {
   "cell_type": "markdown",
   "id": "b7f0dcc4-98c7-43fe-8ee2-629aac60c421",
   "metadata": {},
   "source": [
    "## Task 7\n",
    "#### Fit a comparison model to predict whether members will attend using the data provided. You must include your code.\n",
    "\n",
    "##### Answer\n",
    "In this task, I am using Random Forest Classifier as a comparision model because it is an ensemble learning algorithm that consists of a collection of decision trees. Each tree is trained on a different subset of the data, and the final prediction is determined by aggregating the predictions of all individuals trees. Moreover, Random Forests can handle both classification and regression tasks."
   ]
  },
  {
   "cell_type": "code",
   "execution_count": 34,
   "id": "3d5953c8-9f51-426c-a597-b41bd742e4d1",
   "metadata": {
    "executionCancelledAt": null,
    "executionTime": 181,
    "lastExecutedAt": 1692716582418,
    "lastScheduledRunId": null,
    "lastSuccessfullyExecutedCode": "from sklearn.ensemble import RandomForestClassifier\n\n# Initialize the Random Forest Classifier model\nrandom_forest = RandomForestClassifier(random_state=42)\n\n# Fit the model on the training set\nrandom_forest.fit(X_train, y_train)\n\n# Predict on the test data\ny_pred_rf = random_forest.predict(X_test)\n\n# Calculate accuracy of the model\naccuracy_rf = accuracy_score(y_test, y_pred_rf)\n\nprint(f\"Accuracy of Comparison Model: {accuracy_rf:.2f}\")",
    "outputsMetadata": {
     "0": {
      "height": 37,
      "type": "stream"
     }
    }
   },
   "outputs": [
    {
     "name": "stdout",
     "output_type": "stream",
     "text": [
      "Accuracy of Comparison Model: 0.73\n"
     ]
    }
   ],
   "source": [
    "from sklearn.ensemble import RandomForestClassifier\n",
    "\n",
    "# Initialize the Random Forest Classifier model\n",
    "random_forest = RandomForestClassifier(random_state=42)\n",
    "\n",
    "# Fit the model on the training set\n",
    "random_forest.fit(X_train, y_train)\n",
    "\n",
    "# Predict on the test data\n",
    "y_pred_rf = random_forest.predict(X_test)\n",
    "\n",
    "# Calculate accuracy of the model\n",
    "accuracy_rf = accuracy_score(y_test, y_pred_rf)\n",
    "\n",
    "print(f\"Accuracy of Comparison Model: {accuracy_rf:.2f}\")"
   ]
  },
  {
   "cell_type": "markdown",
   "id": "5cec4b2d-86fd-4ce3-9f9c-e9ab2ec0e436",
   "metadata": {},
   "source": [
    "## Task 8\n",
    "#### Explain why you chose the two models used in parts 6 and 7\n",
    "\n",
    "##### Answer\n",
    "- Logistic Regression: this algorithms is easy to understand how the model make predictions. It is also often used as a baseline model in classificaton tasks. It provides a straightforward benchmark for evaluating more complex models. Besides, Logistic regression is a good solution for binary classification problems, where the goal is predict one of two possible outcomes.\n",
    "- Random Forest Classifier: this algorithms is an ensemble that combines multiple decision trees to improve predictive performance and reduce overfitting. Besides, it can handle more complexity patterns in the data and help identify the most influential features for making decistion. "
   ]
  },
  {
   "cell_type": "markdown",
   "id": "84fc2a09-ea39-4a6f-85b2-5d17957e1ac5",
   "metadata": {},
   "source": [
    "## Task 9\n",
    "#### How can you compare between two models?\n",
    "\n",
    "##### Answer\n",
    "How can I compare the two models:\n",
    "1. Data Preprocessing:Both models are trained and tested on the same preprocessed dataset to ensure a fair comparision.\n",
    "2. Model Training and Hyperparamater Tuning: For both models, use appropriate hyperparameter values. Perform hyperparameter tuning for the Random Forest Classifier, which might involve tuning parameters like the number of trees and max depth.\n",
    "3. Model Evaluation Metric: Using a combination of evaluation mretrics to comprehensively compare the models. Common metrics for binary classification task include: Accurate, Precistion, Recall, F1-score.\n",
    "4. Cross-Validation: Perform k-fold cross-vadidation to assess the models' preformance acreoss multiple folds of the data. This helps to reduce the impact of random variations in the data.\n",
    "5. Interpretability: Logistic Regression provides coeffcients that indicate the impact of each feature, while Random Forest's feature importance can help understand which features contribute most to predicts.\n",
    "6. Overfitting: Check for signs of overfitting in both models. If one model is significantly overfitting, it might not generalize well to new data."
   ]
  },
  {
   "cell_type": "code",
   "execution_count": 35,
   "id": "246f2368-09ae-4cac-bdb5-7daacb0b2faf",
   "metadata": {
    "executionCancelledAt": null,
    "executionTime": 16,
    "lastExecutedAt": 1692716593513,
    "lastScheduledRunId": null,
    "lastSuccessfullyExecutedCode": "from sklearn.metrics import precision_score, recall_score, f1_score\n\n# Compare the performance between the two algorithms\ndef compare(y_true, y_pred, model_name):\n    acc = accuracy_score(y_true, y_pred)\n    pre = precision_score(y_true, y_pred)\n    recall = recall_score(y_true, y_pred)\n    f1 = f1_score(y_true, y_pred)\n    print(f\"Model: {model_name}\")\n    print(f\"Accuracy: {acc:.2f}\")\n    print(f\"Precision: {pre:.2f}\")\n    print(f\"Recall: {recall:.2f}\")\n    print(f\"F1 score: {f1:.2f}\")\n\n# Logistic Regression\ncompare(y_test, y_pred_logreg, \"Logistic Regression\")\n\n# Random Forest Classifier\ncompare(y_test, y_pred_rf, \"Random Forest Classifier\")",
    "outputsMetadata": {
     "0": {
      "height": 212,
      "type": "stream"
     }
    }
   },
   "outputs": [
    {
     "name": "stdout",
     "output_type": "stream",
     "text": [
      "Model: Logistic Regression\n",
      "Accuracy: 0.74\n",
      "Precision: 0.78\n",
      "Recall: 0.38\n",
      "F1 score: 0.51\n",
      "Model: Random Forest Classifier\n",
      "Accuracy: 0.73\n",
      "Precision: 0.69\n",
      "Recall: 0.41\n",
      "F1 score: 0.52\n"
     ]
    }
   ],
   "source": [
    "from sklearn.metrics import precision_score, recall_score, f1_score\n",
    "\n",
    "# Compare the performance between the two algorithms\n",
    "def compare(y_true, y_pred, model_name):\n",
    "    acc = accuracy_score(y_true, y_pred)\n",
    "    pre = precision_score(y_true, y_pred)\n",
    "    recall = recall_score(y_true, y_pred)\n",
    "    f1 = f1_score(y_true, y_pred)\n",
    "    print(f\"Model: {model_name}\")\n",
    "    print(f\"Accuracy: {acc:.2f}\")\n",
    "    print(f\"Precision: {pre:.2f}\")\n",
    "    print(f\"Recall: {recall:.2f}\")\n",
    "    print(f\"F1 score: {f1:.2f}\")\n",
    "\n",
    "# Logistic Regression\n",
    "compare(y_test, y_pred_logreg, \"Logistic Regression\")\n",
    "\n",
    "# Random Forest Classifier\n",
    "compare(y_test, y_pred_rf, \"Random Forest Classifier\")"
   ]
  },
  {
   "cell_type": "markdown",
   "id": "feb9e1eb-8913-43b8-a280-a369cf10631e",
   "metadata": {},
   "source": [
    "## Task 10\n",
    "#### Explain which model performs better and why.\n",
    "\n",
    "##### Answer\n",
    "- Logistic Regression performs better in terms of accuracy, precision and F1 score while Random Forest has slight edge in recall. So in this case, Logistic Regression model is a better choice than the other."
   ]
  },
  {
   "cell_type": "markdown",
   "id": "c42a2f84-876d-4002-9d9b-990873351e5f",
   "metadata": {},
   "source": [
    "## ✅  When you have finished...\n",
    "- Publish your Workspace using the option on the left\n",
    "- Check the published version of your report:\n",
    "\t- Can you see everything you want us to grade?\n",
    "    - Are all the graphics visible?\n",
    "- Review the grading rubric. Have you included everything that will be graded?\n",
    "- Head back to the [Certification dashboard](https://app.datacamp.com/certification) to submit your practical exam"
   ]
  }
 ],
 "metadata": {
  "colab": {
   "name": "Welcome to DataCamp Workspaces.ipynb",
   "provenance": []
  },
  "kernelspec": {
   "display_name": "Python 3 (ipykernel)",
   "language": "python",
   "name": "python3"
  },
  "language_info": {
   "codemirror_mode": {
    "name": "ipython",
    "version": 3
   },
   "file_extension": ".py",
   "mimetype": "text/x-python",
   "name": "python",
   "nbconvert_exporter": "python",
   "pygments_lexer": "ipython3",
   "version": "3.9.12"
  }
 },
 "nbformat": 4,
 "nbformat_minor": 5
}
